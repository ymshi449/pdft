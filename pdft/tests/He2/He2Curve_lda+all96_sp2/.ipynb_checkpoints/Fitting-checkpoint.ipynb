{
 "cells": [
  {
   "cell_type": "code",
   "execution_count": 1,
   "metadata": {},
   "outputs": [],
   "source": [
    "import scipy.ndimage\n",
    "import psi4\n",
    "import pdft\n",
    "%matplotlib notebook\n",
    "import matplotlib.pyplot as plt\n",
    "from mpl_toolkits.mplot3d import Axes3D\n",
    "import libcubeprop\n",
    "import numpy as np\n",
    "import pickle"
   ]
  },
  {
   "cell_type": "code",
   "execution_count": 2,
   "metadata": {},
   "outputs": [
    {
     "data": {
      "text/plain": [
       "dict_keys(['x', 'y', 'vp', 'mol_energy', 'f1_energy', 'f2_energy', 'ep', 'nuclear_nad', 'vp_svwn'])"
      ]
     },
     "execution_count": 2,
     "metadata": {},
     "output_type": "execute_result"
    }
   ],
   "source": [
    "data = pickle.load(open( \"save.p\", \"rb\" ) )\n",
    "data.keys()"
   ]
  },
  {
   "cell_type": "code",
   "execution_count": 3,
   "metadata": {},
   "outputs": [
    {
     "data": {
      "text/plain": [
       "array([1.        , 0.92307678, 0.85714298, 0.8       , 0.74999991,\n",
       "       0.70588244, 0.66666667, 0.63157888, 0.60000006, 0.57142857,\n",
       "       0.5454545 , 0.52173918, 0.5       , 0.47999996, 0.4615385 ,\n",
       "       0.44444444, 0.4285714 , 0.41379313, 0.4       , 0.38709675,\n",
       "       0.37500002, 0.36363636, 0.35294116, 0.34285716, 0.33333333,\n",
       "       0.32432431, 0.31578949, 0.30769231, 0.29999999, 0.29268294,\n",
       "       0.28571429, 0.27906975, 0.27272729, 0.26666667, 0.26086955,\n",
       "       0.25531916, 0.25      , 0.24489795, 0.24000001, 0.23529412,\n",
       "       0.23076922, 0.2264151 , 0.22222222, 0.21818181, 0.21428572,\n",
       "       0.21052632, 0.20689654, 0.20338984, 0.2       ])"
      ]
     },
     "execution_count": 3,
     "metadata": {},
     "output_type": "execute_result"
    }
   ],
   "source": [
    "f1e = np.array(data['f1_energy'])\n",
    "f2e = np.array(data['f2_energy'])\n",
    "\n",
    "x = np.array(data['x'])\n",
    "y = np.array(data['y'])\n",
    "\n",
    "nuclear_nad = np.array(data['nuclear_nad'])\n",
    "ep = np.array(data['ep'])\n",
    "\n",
    "nuclear_nad"
   ]
  },
  {
   "cell_type": "markdown",
   "metadata": {},
   "source": [
    "LAD bench mark."
   ]
  },
  {
   "cell_type": "code",
   "execution_count": 7,
   "metadata": {},
   "outputs": [
    {
     "name": "stdout",
     "output_type": "stream",
     "text": [
      "============4.000000==============\n",
      "============4.333333==============\n",
      "============4.666667==============\n",
      "============5.000000==============\n",
      "============5.333333==============\n",
      "============5.666667==============\n",
      "============6.000000==============\n",
      "============6.333333==============\n",
      "============6.666667==============\n",
      "============7.000000==============\n",
      "============7.333333==============\n",
      "============7.666667==============\n",
      "============8.000000==============\n",
      "============8.333333==============\n",
      "============8.666667==============\n",
      "============9.000000==============\n",
      "============9.333333==============\n",
      "============9.666667==============\n",
      "============10.000000==============\n",
      "============10.333333==============\n",
      "============10.666667==============\n",
      "============11.000000==============\n",
      "============11.333333==============\n",
      "============11.666667==============\n",
      "============12.000000==============\n",
      "============12.333333==============\n",
      "============12.666667==============\n",
      "============13.000000==============\n",
      "============13.333333==============\n",
      "============13.666667==============\n",
      "============14.000000==============\n",
      "============14.333333==============\n",
      "============14.666667==============\n",
      "============15.000000==============\n",
      "============15.333333==============\n",
      "============15.666667==============\n",
      "============16.000000==============\n",
      "============16.333333==============\n",
      "============16.666667==============\n",
      "============17.000000==============\n",
      "============17.333333==============\n",
      "============17.666667==============\n",
      "============18.000000==============\n",
      "============18.333333==============\n",
      "============18.666667==============\n",
      "============19.000000==============\n",
      "============19.333333==============\n",
      "============19.666667==============\n",
      "============20.000000==============\n"
     ]
    }
   ],
   "source": [
    "energy = []\n",
    "psi4.set_options({\n",
    "    'REFERENCE': 'UKS'\n",
    "})\n",
    "for bondlength in np.linspace(4, 20, 49):\n",
    "    print(\"============%f==============\" % bondlength)\n",
    "    Full_Molec =  psi4.geometry(\"\"\"\n",
    "    nocom\n",
    "    noreorient\n",
    "    He %f 0.0 0.00\n",
    "    He -%f 0.0 0.00\n",
    "    units bohr\n",
    "    symmetry c1\n",
    "    \"\"\" % (bondlength / 2, bondlength / 2))\n",
    "    \n",
    "    E = psi4.energy(\"SVWN/aug-cc-pvdz\")\n",
    "    \n",
    "    energy.append(E*2)"
   ]
  },
  {
   "cell_type": "code",
   "execution_count": 5,
   "metadata": {},
   "outputs": [
    {
     "name": "stdout",
     "output_type": "stream",
     "text": [
      "============4.000000==============\n",
      "============4.333333==============\n",
      "============4.666667==============\n",
      "============5.000000==============\n",
      "============5.333333==============\n",
      "============5.666667==============\n",
      "============6.000000==============\n",
      "============6.333333==============\n",
      "============6.666667==============\n",
      "============7.000000==============\n",
      "============7.333333==============\n",
      "============7.666667==============\n",
      "============8.000000==============\n",
      "============8.333333==============\n",
      "============8.666667==============\n",
      "============9.000000==============\n",
      "============9.333333==============\n",
      "============9.666667==============\n",
      "============10.000000==============\n",
      "============10.333333==============\n",
      "============10.666667==============\n",
      "============11.000000==============\n",
      "============11.333333==============\n",
      "============11.666667==============\n",
      "============12.000000==============\n",
      "============12.333333==============\n",
      "============12.666667==============\n",
      "============13.000000==============\n",
      "============13.333333==============\n",
      "============13.666667==============\n",
      "============14.000000==============\n",
      "============14.333333==============\n",
      "============14.666667==============\n",
      "============15.000000==============\n",
      "============15.333333==============\n",
      "============15.666667==============\n",
      "============16.000000==============\n",
      "============16.333333==============\n",
      "============16.666667==============\n",
      "============17.000000==============\n",
      "============17.333333==============\n",
      "============17.666667==============\n",
      "============18.000000==============\n",
      "============18.333333==============\n",
      "============18.666667==============\n",
      "============19.000000==============\n",
      "============19.333333==============\n",
      "============19.666667==============\n",
      "============20.000000==============\n"
     ]
    }
   ],
   "source": [
    "energy_pbe = []\n",
    "psi4.set_options({\n",
    "    'REFERENCE': 'UKS'\n",
    "})\n",
    "for bondlength in np.linspace(4, 20, 49):\n",
    "    print(\"============%f==============\" % bondlength)\n",
    "    Full_Molec =  psi4.geometry(\"\"\"\n",
    "    nocom\n",
    "    noreorient\n",
    "    He %f 0.0 0.00\n",
    "    He -%f 0.0 0.00\n",
    "    units bohr\n",
    "    symmetry c1\n",
    "    \"\"\" % (bondlength / 2, bondlength / 2))\n",
    "    \n",
    "    E = psi4.energy(\"pbe/aug-cc-pvdz\")\n",
    "    \n",
    "    energy_pbe.append(E*2)"
   ]
  },
  {
   "cell_type": "code",
   "execution_count": 6,
   "metadata": {},
   "outputs": [
    {
     "data": {
      "text/plain": [
       "array([0.00038241, 0.00039461, 0.00040641, 0.00041455, 0.00041857,\n",
       "       0.00041963, 0.00041904, 0.00041764, 0.00041591, 0.00041421,\n",
       "       0.00041234, 0.00041087, 0.00040914, 0.00040766, 0.0004071 ,\n",
       "       0.00040454, 0.00040359, 0.00040454, 0.00040304, 0.0003996 ,\n",
       "       0.00039738, 0.0003983 , 0.00040161, 0.00040437, 0.00040294,\n",
       "       0.00039623, 0.00038865, 0.00038486, 0.00038628, 0.0003908 ,\n",
       "       0.00039506, 0.00039724, 0.00039757, 0.00039741, 0.00039742,\n",
       "       0.00039719, 0.00039638, 0.00039503, 0.00039342, 0.00039198,\n",
       "       0.00039097, 0.00039042, 0.00039035, 0.00039062, 0.00039074,\n",
       "       0.00039052, 0.00038997, 0.00038919, 0.00038835])"
      ]
     },
     "execution_count": 6,
     "metadata": {},
     "output_type": "execute_result"
    }
   ],
   "source": [
    "f1e + f2e + ep + nuclear_nad*2 - np.array(energy)"
   ]
  },
  {
   "cell_type": "code",
   "execution_count": 7,
   "metadata": {},
   "outputs": [
    {
     "data": {
      "text/plain": [
       "<matplotlib.collections.PathCollection at 0x7f5e58fcdf10>"
      ]
     },
     "execution_count": 7,
     "metadata": {},
     "output_type": "execute_result"
    },
    {
     "data": {
      "image/png": "[encoded data removed]",
      "text/plain": [
       "<Figure size 432x288 with 1 Axes>"
      ]
     },
     "metadata": {
      "needs_background": "light"
     },
     "output_type": "display_data"
    }
   ],
   "source": [
    "fig2, ax2 = plt.subplots(1, 1)\n",
    "ax2.scatter(x, f1e + f2e + ep + nuclear_nad*2)\n",
    "ax2.scatter(x, np.array(energy))\n",
    "ax2.scatter(x, np.array(energy_pbe))"
   ]
  },
  {
   "cell_type": "code",
   "execution_count": 8,
   "metadata": {
    "scrolled": true
   },
   "outputs": [
    {
     "ename": "TypeError",
     "evalue": "unsupported operand type(s) for -: 'list' and 'float'",
     "output_type": "error",
     "traceback": [
      "\u001b[0;31m---------------------------------------------------------------------------\u001b[0m",
      "\u001b[0;31mTypeError\u001b[0m                                 Traceback (most recent call last)",
      "\u001b[0;32m<ipython-input-8-cc8b2421ef87>\u001b[0m in \u001b[0;36m<module>\u001b[0;34m\u001b[0m\n\u001b[1;32m      1\u001b[0m \u001b[0mfig2\u001b[0m\u001b[0;34m,\u001b[0m \u001b[0max2\u001b[0m \u001b[0;34m=\u001b[0m \u001b[0mplt\u001b[0m\u001b[0;34m.\u001b[0m\u001b[0msubplots\u001b[0m\u001b[0;34m(\u001b[0m\u001b[0;36m1\u001b[0m\u001b[0;34m,\u001b[0m \u001b[0;36m1\u001b[0m\u001b[0;34m)\u001b[0m\u001b[0;34m\u001b[0m\u001b[0;34m\u001b[0m\u001b[0m\n\u001b[1;32m      2\u001b[0m \u001b[0max2\u001b[0m\u001b[0;34m.\u001b[0m\u001b[0mscatter\u001b[0m\u001b[0;34m(\u001b[0m\u001b[0mx\u001b[0m\u001b[0;34m,\u001b[0m \u001b[0mf1e\u001b[0m \u001b[0;34m+\u001b[0m \u001b[0mf2e\u001b[0m \u001b[0;34m+\u001b[0m \u001b[0mep\u001b[0m \u001b[0;34m+\u001b[0m \u001b[0mnuclear_nad\u001b[0m\u001b[0;34m*\u001b[0m\u001b[0;36m2\u001b[0m \u001b[0;34m+\u001b[0m \u001b[0my\u001b[0m \u001b[0;34m-\u001b[0m \u001b[0;34m(\u001b[0m\u001b[0mf1e\u001b[0m \u001b[0;34m+\u001b[0m \u001b[0mf2e\u001b[0m \u001b[0;34m+\u001b[0m \u001b[0mep\u001b[0m \u001b[0;34m+\u001b[0m \u001b[0mnuclear_nad\u001b[0m\u001b[0;34m*\u001b[0m\u001b[0;36m2\u001b[0m\u001b[0;34m)\u001b[0m\u001b[0;34m[\u001b[0m\u001b[0;34m-\u001b[0m\u001b[0;36m1\u001b[0m\u001b[0;34m]\u001b[0m\u001b[0;34m)\u001b[0m\u001b[0;34m\u001b[0m\u001b[0;34m\u001b[0m\u001b[0m\n\u001b[0;32m----> 3\u001b[0;31m \u001b[0max2\u001b[0m\u001b[0;34m.\u001b[0m\u001b[0mscatter\u001b[0m\u001b[0;34m(\u001b[0m\u001b[0mx\u001b[0m\u001b[0;34m,\u001b[0m \u001b[0menergy\u001b[0m \u001b[0;34m-\u001b[0m \u001b[0menergy\u001b[0m\u001b[0;34m[\u001b[0m\u001b[0;34m-\u001b[0m\u001b[0;36m1\u001b[0m\u001b[0;34m]\u001b[0m\u001b[0;34m)\u001b[0m\u001b[0;34m\u001b[0m\u001b[0;34m\u001b[0m\u001b[0m\n\u001b[0m\u001b[1;32m      4\u001b[0m \u001b[0max2\u001b[0m\u001b[0;34m.\u001b[0m\u001b[0mscatter\u001b[0m\u001b[0;34m(\u001b[0m\u001b[0mx\u001b[0m\u001b[0;34m,\u001b[0m \u001b[0mf1e\u001b[0m \u001b[0;34m+\u001b[0m \u001b[0mf2e\u001b[0m \u001b[0;34m+\u001b[0m \u001b[0mep\u001b[0m \u001b[0;34m+\u001b[0m \u001b[0mnuclear_nad\u001b[0m\u001b[0;34m*\u001b[0m\u001b[0;36m2\u001b[0m \u001b[0;34m-\u001b[0m \u001b[0;34m(\u001b[0m\u001b[0mf1e\u001b[0m \u001b[0;34m+\u001b[0m \u001b[0mf2e\u001b[0m \u001b[0;34m+\u001b[0m \u001b[0mep\u001b[0m \u001b[0;34m+\u001b[0m \u001b[0mnuclear_nad\u001b[0m\u001b[0;34m*\u001b[0m\u001b[0;36m2\u001b[0m\u001b[0;34m)\u001b[0m\u001b[0;34m[\u001b[0m\u001b[0;34m-\u001b[0m\u001b[0;36m1\u001b[0m\u001b[0;34m]\u001b[0m\u001b[0;34m)\u001b[0m\u001b[0;34m\u001b[0m\u001b[0;34m\u001b[0m\u001b[0m\n",
      "\u001b[0;31mTypeError\u001b[0m: unsupported operand type(s) for -: 'list' and 'float'"
     ]
    },
    {
     "data": {
      "image/png": "[encoded data removed]",
      "text/plain": [
       "<Figure size 432x288 with 1 Axes>"
      ]
     },
     "metadata": {
      "needs_background": "light"
     },
     "output_type": "display_data"
    }
   ],
   "source": [
    "fig2, ax2 = plt.subplots(1, 1)\n",
    "ax2.scatter(x, f1e + f2e + ep + nuclear_nad*2 + y - (f1e + f2e + ep + nuclear_nad*2)[-1])\n",
    "ax2.scatter(x, np.energy - energy[-1])\n",
    "ax2.scatter(x, f1e + f2e + ep + nuclear_nad*2 - (f1e + f2e + ep + nuclear_nad*2)[-1])"
   ]
  },
  {
   "cell_type": "code",
   "execution_count": 9,
   "metadata": {},
   "outputs": [
    {
     "data": {
      "text/plain": [
       "<matplotlib.collections.PathCollection at 0x7f5e5909cb90>"
      ]
     },
     "execution_count": 9,
     "metadata": {},
     "output_type": "execute_result"
    },
    {
     "data": {
      "image/png": "[encoded data removed]",
      "text/plain": [
       "<Figure size 432x288 with 1 Axes>"
      ]
     },
     "metadata": {
      "needs_background": "light"
     },
     "output_type": "display_data"
    }
   ],
   "source": [
    "fig2, ax2 = plt.subplots(1, 1)\n",
    "ax2.scatter(x, y + energy_pbe - (y + energy_pbe)[-1])"
   ]
  },
  {
   "cell_type": "code",
   "execution_count": null,
   "metadata": {},
   "outputs": [],
   "source": []
  }
 ],
 "metadata": {
  "kernelspec": {
   "display_name": "psi4",
   "language": "python",
   "name": "py3psi4"
  },
  "language_info": {
   "codemirror_mode": {
    "name": "ipython",
    "version": 3
   },
   "file_extension": ".py",
   "mimetype": "text/x-python",
   "name": "python",
   "nbconvert_exporter": "python",
   "pygments_lexer": "ipython3",
   "version": "3.7.5"
  }
 },
 "nbformat": 4,
 "nbformat_minor": 2
}
