{
 "cells": [
  {
   "cell_type": "code",
   "execution_count": 1,
   "metadata": {},
   "outputs": [],
   "source": [
    "import scipy.ndimage\n",
    "import psi4\n",
    "import pdft\n",
    "%matplotlib notebook\n",
    "import matplotlib.pyplot as plt\n",
    "from mpl_toolkits.mplot3d import Axes3D\n",
    "import libcubeprop\n",
    "import numpy as np\n",
    "import pickle"
   ]
  },
  {
   "cell_type": "code",
   "execution_count": 20,
   "metadata": {},
   "outputs": [],
   "source": [
    "data = pickle.load(open( \"save3.p\", \"rb\" ) )"
   ]
  },
  {
   "cell_type": "code",
   "execution_count": 21,
   "metadata": {},
   "outputs": [
    {
     "data": {
      "text/plain": [
       "array([2.        , 1.88235294, 1.77777778, 1.68421053, 1.6       ])"
      ]
     },
     "execution_count": 21,
     "metadata": {},
     "output_type": "execute_result"
    }
   ],
   "source": [
    "f1e = np.array(data['f1_energy'])\n",
    "f2e = np.array(data['f2_energy'])\n",
    "\n",
    "x = np.array(data['x'])\n",
    "y = np.array(data['y'])\n",
    "\n",
    "nuclear_nad = np.array(data['nuclear_nad'])\n",
    "ep = np.array(data['ep'])\n",
    "\n",
    "nuclear_nad"
   ]
  },
  {
   "cell_type": "markdown",
   "metadata": {},
   "source": [
    "PBE benchmark."
   ]
  },
  {
   "cell_type": "code",
   "execution_count": 8,
   "metadata": {},
   "outputs": [
    {
     "name": "stdout",
     "output_type": "stream",
     "text": [
      "============4.000000==============\n",
      "============4.250000==============\n",
      "============4.500000==============\n",
      "============4.750000==============\n",
      "============5.000000==============\n"
     ]
    }
   ],
   "source": [
    "energy_pbe = []\n",
    "psi4.set_options({\n",
    "    'REFERENCE': 'UKS'\n",
    "})\n",
    "for bondlength in x:\n",
    "    print(\"============%f==============\" % bondlength)\n",
    "    Full_Molec =  psi4.geometry(\"\"\"\n",
    "    nocom\n",
    "    noreorient\n",
    "    He %f 0.0 0.00\n",
    "    He -%f 0.0 0.00\n",
    "    units bohr\n",
    "    symmetry c1\n",
    "    \"\"\" % (bondlength / 2, bondlength / 2))\n",
    "    \n",
    "    E = psi4.energy(\"pbe/aug-cc-pvdz\")\n",
    "    \n",
    "    energy_pbe.append(E*2)"
   ]
  },
  {
   "cell_type": "code",
   "execution_count": 35,
   "metadata": {},
   "outputs": [
    {
     "name": "stdout",
     "output_type": "stream",
     "text": [
      "============60.000000==============\n",
      "-5.774087411731994\n"
     ]
    }
   ],
   "source": [
    "psi4.set_options({\n",
    "    'REFERENCE': 'UKS'\n",
    "})\n",
    "bondlength = 60\n",
    "print(\"============%f==============\" % bondlength)\n",
    "Full_Molec =  psi4.geometry(\"\"\"\n",
    "nocom\n",
    "noreorient\n",
    "He %f 0.0 0.00\n",
    "He -%f 0.0 0.00\n",
    "units bohr\n",
    "symmetry c1\n",
    "\"\"\" % (bondlength / 2, bondlength / 2))\n",
    "\n",
    "E = psi4.energy(\"pbe/aug-cc-pvdz\", molecule=Full_Molec)\n",
    "print(E)\n",
    "energy_pbe.append(E*2)"
   ]
  },
  {
   "cell_type": "code",
   "execution_count": 22,
   "metadata": {
    "scrolled": true
   },
   "outputs": [
    {
     "data": {
      "text/plain": [
       "array([-11.54781447, -11.54872747, -11.54910098, -11.5492156 ,\n",
       "       -11.54917978])"
      ]
     },
     "execution_count": 22,
     "metadata": {},
     "output_type": "execute_result"
    }
   ],
   "source": [
    "energy_pbe + y"
   ]
  },
  {
   "cell_type": "code",
   "execution_count": 33,
   "metadata": {},
   "outputs": [
    {
     "data": {
      "text/plain": [
       "-36.27967680050426"
      ]
     },
     "execution_count": 33,
     "metadata": {},
     "output_type": "execute_result"
    }
   ],
   "source": [
    "energy_pbe[-1]/2*2*np.pi"
   ]
  },
  {
   "cell_type": "code",
   "execution_count": 30,
   "metadata": {
    "scrolled": true
   },
   "outputs": [
    {
     "data": {
      "text/plain": [
       "<matplotlib.collections.PathCollection at 0x7fefe9d40d90>"
      ]
     },
     "execution_count": 30,
     "metadata": {},
     "output_type": "execute_result"
    },
    {
     "data": {
      "image/png": "[encoded data removed]",
      "text/plain": [
       "<Figure size 432x288 with 1 Axes>"
      ]
     },
     "metadata": {
      "needs_background": "light"
     },
     "output_type": "display_data"
    }
   ],
   "source": [
    "fig2, ax2 = plt.subplots(1, 1)\n",
    "ax2.scatter(x, (energy_pbe[:-1] + y - energy_pbe[-1])/2*27.2114) # eV\n",
    "ax2.scatter(x, (np.array(energy_pbe[:-1]) - energy_pbe[-1])/2*27.2114) # eV"
   ]
  },
  {
   "cell_type": "code",
   "execution_count": 9,
   "metadata": {},
   "outputs": [
    {
     "data": {
      "text/plain": [
       "<matplotlib.collections.PathCollection at 0x7f5e5909cb90>"
      ]
     },
     "execution_count": 9,
     "metadata": {},
     "output_type": "execute_result"
    },
    {
     "data": {
      "image/png": "[encoded data removed]",
      "text/plain": [
       "<Figure size 432x288 with 1 Axes>"
      ]
     },
     "metadata": {
      "needs_background": "light"
     },
     "output_type": "display_data"
    }
   ],
   "source": [
    "fig2, ax2 = plt.subplots(1, 1)\n",
    "ax2.scatter(x, y + energy_pbe - (y + energy_pbe)[-1])"
   ]
  },
  {
   "cell_type": "code",
   "execution_count": null,
   "metadata": {},
   "outputs": [],
   "source": []
  }
 ],
 "metadata": {
  "kernelspec": {
   "display_name": "psi4",
   "language": "python",
   "name": "py3psi4"
  },
  "language_info": {
   "codemirror_mode": {
    "name": "ipython",
    "version": 3
   },
   "file_extension": ".py",
   "mimetype": "text/x-python",
   "name": "python",
   "nbconvert_exporter": "python",
   "pygments_lexer": "ipython3",
   "version": "3.7.5"
  }
 },
 "nbformat": 4,
 "nbformat_minor": 2
}
